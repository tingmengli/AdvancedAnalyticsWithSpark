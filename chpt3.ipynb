{
 "cells": [
  {
   "cell_type": "code",
   "execution_count": null,
   "metadata": {
    "collapsed": false
   },
   "outputs": [],
   "source": [
    "sc"
   ]
  },
  {
   "cell_type": "code",
   "execution_count": null,
   "metadata": {
    "collapsed": false
   },
   "outputs": [],
   "source": [
    "rawDataRDD=sc.textFile(\"audio_data/user_artist_data.txt\")\n",
    "#rawDataRDD.cache()"
   ]
  },
  {
   "cell_type": "code",
   "execution_count": null,
   "metadata": {
    "collapsed": false
   },
   "outputs": [],
   "source": [
    "print \"Sampling the dataset to fit into laptop memory...\"\n",
    "weights = [.1, .9]\n",
    "seed = 42\n",
    "sample, someOtherJunk = rawDataRDD.randomSplit(weights, seed)\n",
    "#sample.cache()"
   ]
  },
  {
   "cell_type": "markdown",
   "metadata": {},
   "source": [
    "##check whether variables are in range for storing as int32."
   ]
  },
  {
   "cell_type": "code",
   "execution_count": null,
   "metadata": {
    "collapsed": false
   },
   "outputs": [],
   "source": [
    "print sample.map(lambda x: float(x.split()[0])).stats()"
   ]
  },
  {
   "cell_type": "code",
   "execution_count": null,
   "metadata": {
    "collapsed": false
   },
   "outputs": [],
   "source": [
    "print sample.map(lambda x: float(x.split()[1])).stats()"
   ]
  },
  {
   "cell_type": "code",
   "execution_count": null,
   "metadata": {
    "collapsed": false
   },
   "outputs": [],
   "source": [
    "print sample.first()"
   ]
  },
  {
   "cell_type": "markdown",
   "metadata": {},
   "source": [
    "##load the artist ID to name mappings."
   ]
  },
  {
   "cell_type": "code",
   "execution_count": null,
   "metadata": {
    "collapsed": true
   },
   "outputs": [],
   "source": [
    "rawArtistRDD = sc.textFile(\"audio_data/artist_data.txt\")"
   ]
  },
  {
   "cell_type": "code",
   "execution_count": null,
   "metadata": {
    "collapsed": true
   },
   "outputs": [],
   "source": [
    "def parseArtistIdNamePair(singlePair):\n",
    "    splitPair = singlePair.rsplit('\\t')\n",
    "    # we should have two items in the list - id and name of the artist.\n",
    "    if len(splitPair) != 2:\n",
    "        return []\n",
    "    else:\n",
    "        try:\n",
    "            return [(int(splitPair[0]), splitPair[1])]\n",
    "        except:\n",
    "            return []"
   ]
  },
  {
   "cell_type": "code",
   "execution_count": null,
   "metadata": {
    "collapsed": false
   },
   "outputs": [],
   "source": [
    "artistByID = dict(rawArtistRDD.flatMap(lambda x: parseArtistIdNamePair(x)).collect())\n",
    "key = next(iter(artistByID))\n",
    "value = artistByID[key]\n",
    "print key, value\n",
    "print artistByID[1000007]\n",
    "artistByIDBroadcast = sc.broadcast(artistByID)\n",
    "artistByIDBroadcast.value.get(1000007)"
   ]
  },
  {
   "cell_type": "markdown",
   "metadata": {},
   "source": [
    "##load artist aliases."
   ]
  },
  {
   "cell_type": "code",
   "execution_count": null,
   "metadata": {
    "collapsed": true
   },
   "outputs": [],
   "source": [
    "rawAliasRDD = sc.textFile(\"audio_data/artist_alias.txt\")"
   ]
  },
  {
   "cell_type": "code",
   "execution_count": null,
   "metadata": {
    "collapsed": true
   },
   "outputs": [],
   "source": [
    "def parseArtistAlias(alias):\n",
    "    splitPair = alias.rsplit('\\t')\n",
    "    # we should have two items in the list - id and name of the artist.\n",
    "    if len(splitPair) != 2:\n",
    "        #print singlePair\n",
    "        return []\n",
    "    else:\n",
    "        try:\n",
    "            return [(int(splitPair[0]), int(splitPair[1]))]\n",
    "        except:\n",
    "            return []"
   ]
  },
  {
   "cell_type": "code",
   "execution_count": null,
   "metadata": {
    "collapsed": false
   },
   "outputs": [],
   "source": [
    "artistAlias = rawAliasRDD.flatMap(lambda x: parseArtistAlias(x)).collectAsMap()\n",
    "key = next(iter(artistAlias))\n",
    "value = artistAlias[key]\n",
    "print key, value\n",
    "print artistByID[key]\n",
    "print artistByID[value]"
   ]
  },
  {
   "cell_type": "markdown",
   "metadata": {},
   "source": [
    "##convert all artist IDs to canonical form using aliases"
   ]
  },
  {
   "cell_type": "code",
   "execution_count": null,
   "metadata": {
    "collapsed": true
   },
   "outputs": [],
   "source": [
    "from pyspark.mllib import recommendation\n",
    "from pyspark.mllib.recommendation import *\n",
    "from pyspark.mllib.recommendation import ALS, Rating"
   ]
  },
  {
   "cell_type": "code",
   "execution_count": null,
   "metadata": {
    "collapsed": true
   },
   "outputs": [],
   "source": [
    "artistAliasBroadcast = sc.broadcast(artistAlias)"
   ]
  },
  {
   "cell_type": "markdown",
   "metadata": {},
   "source": [
    "##build model"
   ]
  },
  {
   "cell_type": "code",
   "execution_count": null,
   "metadata": {
    "collapsed": true
   },
   "outputs": [],
   "source": [
    "def mapSingleObservation(x):\n",
    "    userID, artistID, count = map(lambda lineItem: int(lineItem), x.split(' '))\n",
    "    finalArtistID = artistAliasBroadcast.value.get(artistID)\n",
    "    if finalArtistID is None:\n",
    "        finalArtistID = artistID\n",
    "    return Rating(userID, finalArtistID, count)"
   ]
  },
  {
   "cell_type": "code",
   "execution_count": null,
   "metadata": {
    "collapsed": false
   },
   "outputs": [],
   "source": [
    "trainData = sample.map(lambda x: mapSingleObservation(x))\n",
    "trainData.cache()"
   ]
  },
  {
   "cell_type": "code",
   "execution_count": null,
   "metadata": {
    "collapsed": false
   },
   "outputs": [],
   "source": [
    "# rank = 10\n",
    "#   The number of latent factors in the model, or equivalently, the number of columns\n",
    "#   k in the user-feature and product-feature matrices. In nontrivial cases, this\n",
    "#   is also their rank.\n",
    "# iterations = 5\n",
    "#   The number of iterations that the factorization runs. More iterations take more\n",
    "#   time but may produce a better factorization.\n",
    "\n",
    "model = ALS.trainImplicit(trainData, 10, 5, alpha=0.01)"
   ]
  },
  {
   "cell_type": "markdown",
   "metadata": {},
   "source": [
    "##see if this model makes sense"
   ]
  },
  {
   "cell_type": "code",
   "execution_count": null,
   "metadata": {
    "collapsed": false
   },
   "outputs": [],
   "source": [
    "testUserID = 1000002\n",
    "#grab all artists played by this test user\n",
    "\n",
    "artistsForUser = (trainData\n",
    "                  .filter(lambda observation: observation.user == testUserID)\n",
    "                  .map(lambda observation: artistByIDBroadcast.value.get(observation.product))\n",
    "                  .collect())\n",
    "print artistsForUser"
   ]
  },
  {
   "cell_type": "code",
   "execution_count": null,
   "metadata": {
    "collapsed": false
   },
   "outputs": [],
   "source": [
    "#generate some recommendations and see if they make sense\n",
    "# Got to use the model.call syntax here, because recommendProducts is not implemented\n",
    "# In pySpark 1.3 :(\n",
    "recommendationsForUser = \\\n",
    "    map(lambda observation: artistByID.get(observation.product), model.call(\"recommendProducts\", testUserID, 30))\n",
    "\n",
    "print recommendationsForUser"
   ]
  },
  {
   "cell_type": "code",
   "execution_count": null,
   "metadata": {
    "collapsed": true
   },
   "outputs": [],
   "source": []
  }
 ],
 "metadata": {
  "kernelspec": {
   "display_name": "Python 2",
   "language": "python",
   "name": "python2"
  },
  "language_info": {
   "codemirror_mode": {
    "name": "ipython",
    "version": 2
   },
   "file_extension": ".py",
   "mimetype": "text/x-python",
   "name": "python",
   "nbconvert_exporter": "python",
   "pygments_lexer": "ipython2",
   "version": "2.7.6"
  }
 },
 "nbformat": 4,
 "nbformat_minor": 0
}
